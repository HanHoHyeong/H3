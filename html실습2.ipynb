{
  "nbformat": 4,
  "nbformat_minor": 0,
  "metadata": {
    "colab": {
      "provenance": [],
      "authorship_tag": "ABX9TyNzLo0cyeupArs+Ak1liuhg",
      "include_colab_link": true
    },
    "kernelspec": {
      "name": "python3",
      "display_name": "Python 3"
    },
    "language_info": {
      "name": "python"
    }
  },
  "cells": [
    {
      "cell_type": "markdown",
      "metadata": {
        "id": "view-in-github",
        "colab_type": "text"
      },
      "source": [
        "<a href=\"https://colab.research.google.com/github/HanHoHyeong/H3/blob/main/html%EC%8B%A4%EC%8A%B52.ipynb\" target=\"_parent\"><img src=\"https://colab.research.google.com/assets/colab-badge.svg\" alt=\"Open In Colab\"/></a>"
      ]
    },
    {
      "cell_type": "code",
      "execution_count": null,
      "metadata": {
        "id": "8MWmXj0jbPH_"
      },
      "outputs": [],
      "source": [
        "import pandas as pd\n",
        "\n",
        "url = 'https://sports.news.naver.com/kbaseball/record/index?category=kbo&year=2025'\n",
        "years = {2019, 2020, 2021, 2022}\n",
        "df = pd.DataFrame()\n",
        "for y in years:\n",
        "  kbo_df = pd.read_html(url + str(y))[0]\n",
        "  kbo_df['year'] = y\n",
        "  df = pd.concat([df, kbo_df])"
      ]
    }
  ]
}