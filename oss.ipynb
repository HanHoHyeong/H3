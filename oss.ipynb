{
  "nbformat": 4,
  "nbformat_minor": 0,
  "metadata": {
    "colab": {
      "provenance": [],
      "authorship_tag": "ABX9TyNa5OdMPQbd66taKHPQ2M8a",
      "include_colab_link": true
    },
    "kernelspec": {
      "name": "python3",
      "display_name": "Python 3"
    },
    "language_info": {
      "name": "python"
    }
  },
  "cells": [
    {
      "cell_type": "markdown",
      "metadata": {
        "id": "view-in-github",
        "colab_type": "text"
      },
      "source": [
        "<a href=\"https://colab.research.google.com/github/HanHoHyeong/H3/blob/main/oss.ipynb\" target=\"_parent\"><img src=\"https://colab.research.google.com/assets/colab-badge.svg\" alt=\"Open In Colab\"/></a>"
      ]
    },
    {
      "cell_type": "code",
      "source": [
        " {\n",
        "      \"cell_type\": \"markdown\",\n",
        "      \"source\": [\n",
        "        \"### **2. 관계 연산자**\"\n",
        "      ],\n",
        "      \"metadata\": {\n",
        "        \"id\": \"UEOSQ6DZQWA2\"\n",
        "      }\n",
        "    },\n",
        "    {\n",
        "      \"cell_type\": \"code\",\n",
        "      \"source\": [\n",
        "        \"#코드 2-6\\n\",\n",
        "        \"a = 11\\n\",\n",
        "        \"b = 4\\n\",\n",
        "        \"\\n\",\n",
        "        \"print(a > b)\\n\",\n",
        "        \"print(a >= b)\\n\",\n",
        "        \"print(a < b)\\n\",\n",
        "        \"print(a <= b)\"\n",
        "      ],\n",
        "      \"metadata\": {\n",
        "        \"id\": \"rcrI1XZVMLqF\"\n",
        "      },\n",
        "      \"execution_count\": None,\n",
        "      \"outputs\": []\n",
        "    }"
      ],
      "metadata": {
        "colab": {
          "base_uri": "https://localhost:8080/",
          "height": 112
        },
        "id": "fnJCY1snJbPe",
        "outputId": "012ccaf7-3744-490b-8100-4507f0f3f0eb"
      },
      "execution_count": null,
      "outputs": [
        {
          "output_type": "error",
          "ename": "IndentationError",
          "evalue": "unexpected indent (<ipython-input-8-19b2a2aac6f0>, line 10)",
          "traceback": [
            "\u001b[0;36m  File \u001b[0;32m\"<ipython-input-8-19b2a2aac6f0>\"\u001b[0;36m, line \u001b[0;32m10\u001b[0m\n\u001b[0;31m    {\u001b[0m\n\u001b[0m    ^\u001b[0m\n\u001b[0;31mIndentationError\u001b[0m\u001b[0;31m:\u001b[0m unexpected indent\n"
          ]
        }
      ]
    },
    {
      "cell_type": "code",
      "execution_count": null,
      "metadata": {
        "id": "3GoDJnQiJYYl"
      },
      "outputs": [],
      "source": []
    }
  ]
}