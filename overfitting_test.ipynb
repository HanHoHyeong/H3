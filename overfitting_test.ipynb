{
  "nbformat": 4,
  "nbformat_minor": 0,
  "metadata": {
    "colab": {
      "provenance": [],
      "authorship_tag": "ABX9TyNwPGEpf0AQsBuwm9vicBH8",
      "include_colab_link": true
    },
    "kernelspec": {
      "name": "python3",
      "display_name": "Python 3"
    },
    "language_info": {
      "name": "python"
    }
  },
  "cells": [
    {
      "cell_type": "markdown",
      "metadata": {
        "id": "view-in-github",
        "colab_type": "text"
      },
      "source": [
        "<a href=\"https://colab.research.google.com/github/HanHoHyeong/H3/blob/main/overfitting_test.ipynb\" target=\"_parent\"><img src=\"https://colab.research.google.com/assets/colab-badge.svg\" alt=\"Open In Colab\"/></a>"
      ]
    },
    {
      "cell_type": "code",
      "execution_count": 3,
      "metadata": {
        "colab": {
          "base_uri": "https://localhost:8080/",
          "height": 598
        },
        "id": "YZpLdBA4khxj",
        "outputId": "82ba018e-5ee8-433e-97be-d975cdd99da4"
      },
      "outputs": [
        {
          "output_type": "stream",
          "name": "stdout",
          "text": [
            "Collecting DataLoader\n",
            "  Downloading dataloader-2.0.tar.gz (9.1 kB)\n",
            "  Preparing metadata (setup.py) ... \u001b[?25l\u001b[?25hdone\n",
            "Building wheels for collected packages: DataLoader\n",
            "  Building wheel for DataLoader (setup.py) ... \u001b[?25l\u001b[?25hdone\n",
            "  Created wheel for DataLoader: filename=dataloader-2.0-py3-none-any.whl size=10083 sha256=0377d4503f1984a05a11501590a56437b2c988d015aad04f0aff02a9919dc9e4\n",
            "  Stored in directory: /root/.cache/pip/wheels/fa/17/c3/e258aa863dd515a9b5759c01f4af55b2a2ea0881b2778fc749\n",
            "Successfully built DataLoader\n",
            "Installing collected packages: DataLoader\n",
            "Successfully installed DataLoader-2.0\n"
          ]
        },
        {
          "output_type": "error",
          "ename": "ModuleNotFoundError",
          "evalue": "No module named 'DataLoader'",
          "traceback": [
            "\u001b[0;31m---------------------------------------------------------------------------\u001b[0m",
            "\u001b[0;31mModuleNotFoundError\u001b[0m                       Traceback (most recent call last)",
            "\u001b[0;32m/tmp/ipython-input-1764481452.py\u001b[0m in \u001b[0;36m<cell line: 0>\u001b[0;34m()\u001b[0m\n\u001b[1;32m      3\u001b[0m \u001b[0;32mfrom\u001b[0m \u001b[0msklearn\u001b[0m \u001b[0;32mimport\u001b[0m \u001b[0mlinear_model\u001b[0m\u001b[0;34m\u001b[0m\u001b[0;34m\u001b[0m\u001b[0m\n\u001b[1;32m      4\u001b[0m \u001b[0;32mfrom\u001b[0m \u001b[0msklearn\u001b[0m\u001b[0;34m.\u001b[0m\u001b[0mmetrics\u001b[0m \u001b[0;32mimport\u001b[0m \u001b[0mmean_squared_error\u001b[0m\u001b[0;34m,\u001b[0m \u001b[0mr2_score\u001b[0m\u001b[0;34m\u001b[0m\u001b[0;34m\u001b[0m\u001b[0m\n\u001b[0;32m----> 5\u001b[0;31m \u001b[0;32mfrom\u001b[0m \u001b[0mDataLoader\u001b[0m \u001b[0;32mimport\u001b[0m \u001b[0mDataLoader\u001b[0m\u001b[0;34m\u001b[0m\u001b[0;34m\u001b[0m\u001b[0m\n\u001b[0m\u001b[1;32m      6\u001b[0m \u001b[0;32mimport\u001b[0m \u001b[0mnumpy\u001b[0m \u001b[0;32mas\u001b[0m \u001b[0mnp\u001b[0m\u001b[0;34m\u001b[0m\u001b[0;34m\u001b[0m\u001b[0m\n\u001b[1;32m      7\u001b[0m \u001b[0;34m\u001b[0m\u001b[0m\n",
            "\u001b[0;31mModuleNotFoundError\u001b[0m: No module named 'DataLoader'",
            "",
            "\u001b[0;31m---------------------------------------------------------------------------\u001b[0;32m\nNOTE: If your import is failing due to a missing package, you can\nmanually install dependencies using either !pip or !apt.\n\nTo view examples of installing some common dependencies, click the\n\"Open Examples\" button below.\n\u001b[0;31m---------------------------------------------------------------------------\u001b[0m\n"
          ],
          "errorDetails": {
            "actions": [
              {
                "action": "open_url",
                "actionText": "Open Examples",
                "url": "/notebooks/snippets/importing_libraries.ipynb"
              }
            ]
          }
        }
      ],
      "source": [
        "!pip install DataLoader\n",
        "import matplotlib.pyplot as plt\n",
        "from sklearn import linear_model\n",
        "from sklearn.metrics import mean_squared_error, r2_score\n",
        "from DataLoader import DataLoader\n",
        "import numpy as np\n",
        "\n",
        "def print_coef(coef):\n",
        "  coef_array = coef.flatten()\n",
        "  for val in coef_array:\n",
        "    print(\"%.4f\" % val, end=\"\\t\")\n",
        "  print(\"\")\n",
        "\n",
        "def make_6_order_feature_vecs(x):\n",
        "  x1 = x\n",
        "  x2 = x * x\n",
        "  x3 = x2 * x\n",
        "  x4 = x3 * x\n",
        "  x5 = x4 * x\n",
        "  x6 = x5 * x\n",
        "\n",
        "  x1 = x1.reshape(-1, 1)\n",
        "  x2 = x2.reshape(-1, 1)\n",
        "  x3 = x3.reshape(-1, 1)\n",
        "  x4 = x4.reshape(-1, 1)\n",
        "  x5 = x5.reshape(-1, 1)\n",
        "  x6 = x6.reshape(-1, 1)\n",
        "  features = np.concatenate((x6, x5, x4, x3, x2, x1), axis=1)\n",
        "\n",
        "  return features"
      ]
    }
  ]
}