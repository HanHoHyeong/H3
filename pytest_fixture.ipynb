{
  "nbformat": 4,
  "nbformat_minor": 0,
  "metadata": {
    "colab": {
      "provenance": [],
      "authorship_tag": "ABX9TyPAD3hFbtYU4bvaZAs0vvIp",
      "include_colab_link": true
    },
    "kernelspec": {
      "name": "python3",
      "display_name": "Python 3"
    },
    "language_info": {
      "name": "python"
    }
  },
  "cells": [
    {
      "cell_type": "markdown",
      "metadata": {
        "id": "view-in-github",
        "colab_type": "text"
      },
      "source": [
        "<a href=\"https://colab.research.google.com/github/HanHoHyeong/H3/blob/main/pytest_fixture.ipynb\" target=\"_parent\"><img src=\"https://colab.research.google.com/assets/colab-badge.svg\" alt=\"Open In Colab\"/></a>"
      ]
    },
    {
      "cell_type": "code",
      "execution_count": 1,
      "metadata": {
        "colab": {
          "base_uri": "https://localhost:8080/"
        },
        "id": "Px89nzJoOylV",
        "outputId": "021567a9-baae-4d0d-edec-4f15cdbe8579"
      },
      "outputs": [
        {
          "output_type": "stream",
          "name": "stdout",
          "text": [
            "Requirement already satisfied: pytest in /usr/local/lib/python3.11/dist-packages (8.3.5)\n",
            "Requirement already satisfied: iniconfig in /usr/local/lib/python3.11/dist-packages (from pytest) (2.1.0)\n",
            "Requirement already satisfied: packaging in /usr/local/lib/python3.11/dist-packages (from pytest) (24.2)\n",
            "Requirement already satisfied: pluggy<2,>=1.5 in /usr/local/lib/python3.11/dist-packages (from pytest) (1.5.0)\n"
          ]
        }
      ],
      "source": [
        "!pip install pytest"
      ]
    },
    {
      "cell_type": "code",
      "source": [
        "%%writefile test_sample.py\n",
        "import pytest\n",
        "@pytest.fixture\n",
        "\n",
        "def supply_AA_BB_CC():\n",
        "  aa = 25\n",
        "  bb = 35\n",
        "  cc = 45\n",
        "  return [aa,bb,cc]\n",
        "\n",
        "def test_compareWithAA(supply_AA_BB_CC):\n",
        "  zz = 35\n",
        "  assert supply_AA_BB_CC[1] == zz, \"aa and zz comparsion failed\"\n",
        ""
      ],
      "metadata": {
        "colab": {
          "base_uri": "https://localhost:8080/"
        },
        "id": "c2AXpw6CO7r0",
        "outputId": "7ae3fa45-8daa-432e-ce25-2d7affed020f"
      },
      "execution_count": 5,
      "outputs": [
        {
          "output_type": "stream",
          "name": "stdout",
          "text": [
            "Overwriting test_sample.py\n"
          ]
        }
      ]
    },
    {
      "cell_type": "code",
      "source": [
        "def my_func(func, x):\n",
        "  print(\"nested function\")\n",
        "  func(x)\n",
        "\n",
        "def cs_func(x):\n",
        "  return x**x\n",
        "\n",
        "my_func(cs_func, 2)\n"
      ],
      "metadata": {
        "colab": {
          "base_uri": "https://localhost:8080/"
        },
        "id": "pIixDzXQPPc3",
        "outputId": "b4b579ac-70ab-48c8-d2e6-75ec23312ad9"
      },
      "execution_count": 6,
      "outputs": [
        {
          "output_type": "stream",
          "name": "stdout",
          "text": [
            "nested function\n"
          ]
        }
      ]
    },
    {
      "cell_type": "code",
      "source": [
        "%%writefile test_parametrize.py\n",
        "import pytest\n",
        "\n",
        "@pytest.mark.parametrize(\"input1, input2, output\",[(5,5,10),(3,5,12)])\n",
        "def test_add(input1, input2, output):\n",
        "  assert input1 + input2 == output, \"failed\"\n",
        "\n"
      ],
      "metadata": {
        "colab": {
          "base_uri": "https://localhost:8080/"
        },
        "id": "rZIZpz7JRiqC",
        "outputId": "9fb89fe7-fa9e-474e-fb0e-dfc37d667c28"
      },
      "execution_count": 18,
      "outputs": [
        {
          "output_type": "stream",
          "name": "stdout",
          "text": [
            "Overwriting test_parametrize.py\n"
          ]
        }
      ]
    },
    {
      "cell_type": "code",
      "source": [
        "!py.test test_parametrize.py"
      ],
      "metadata": {
        "colab": {
          "base_uri": "https://localhost:8080/"
        },
        "id": "96SpuLVvSPh1",
        "outputId": "43e2368c-442d-4517-8980-c4a0500ffc8d"
      },
      "execution_count": 19,
      "outputs": [
        {
          "output_type": "stream",
          "name": "stdout",
          "text": [
            "\u001b[1m============================= test session starts ==============================\u001b[0m\n",
            "platform linux -- Python 3.11.12, pytest-8.3.5, pluggy-1.5.0\n",
            "rootdir: /content\n",
            "plugins: langsmith-0.3.42, anyio-4.9.0, typeguard-4.4.2\n",
            "\u001b[1mcollecting ... \u001b[0m\u001b[1m\rcollected 2 items                                                              \u001b[0m\n",
            "\n",
            "test_parametrize.py \u001b[32m.\u001b[0m\u001b[31mF\u001b[0m\u001b[31m                                                   [100%]\u001b[0m\n",
            "\n",
            "=================================== FAILURES ===================================\n",
            "\u001b[31m\u001b[1m_______________________________ test_add[3-5-12] _______________________________\u001b[0m\n",
            "\n",
            "input1 = 3, input2 = 5, output = 12\n",
            "\n",
            "    \u001b[0m\u001b[37m@pytest\u001b[39;49;00m.mark.parametrize(\u001b[33m\"\u001b[39;49;00m\u001b[33minput1, input2, output\u001b[39;49;00m\u001b[33m\"\u001b[39;49;00m,[(\u001b[94m5\u001b[39;49;00m,\u001b[94m5\u001b[39;49;00m,\u001b[94m10\u001b[39;49;00m),(\u001b[94m3\u001b[39;49;00m,\u001b[94m5\u001b[39;49;00m,\u001b[94m12\u001b[39;49;00m)])\u001b[90m\u001b[39;49;00m\n",
            "    \u001b[94mdef\u001b[39;49;00m\u001b[90m \u001b[39;49;00m\u001b[92mtest_add\u001b[39;49;00m(input1, input2, output):\u001b[90m\u001b[39;49;00m\n",
            ">     \u001b[94massert\u001b[39;49;00m input1 + input2 == output, \u001b[33m\"\u001b[39;49;00m\u001b[33mfailed\u001b[39;49;00m\u001b[33m\"\u001b[39;49;00m\u001b[90m\u001b[39;49;00m\n",
            "\u001b[1m\u001b[31mE     AssertionError: failed\u001b[0m\n",
            "\u001b[1m\u001b[31mE     assert (3 + 5) == 12\u001b[0m\n",
            "\n",
            "\u001b[1m\u001b[31mtest_parametrize.py\u001b[0m:5: AssertionError\n",
            "\u001b[36m\u001b[1m=========================== short test summary info ============================\u001b[0m\n",
            "\u001b[31mFAILED\u001b[0m test_parametrize.py::\u001b[1mtest_add[3-5-12]\u001b[0m - AssertionError: failed\n",
            "\u001b[31m========================= \u001b[31m\u001b[1m1 failed\u001b[0m, \u001b[32m1 passed\u001b[0m\u001b[31m in 0.07s\u001b[0m\u001b[31m ==========================\u001b[0m\n"
          ]
        }
      ]
    },
    {
      "cell_type": "code",
      "source": [
        "import logging\n",
        "\n",
        "logging basicConfig(level.logging.WARN)\n",
        "logging.info(\"hello\")"
      ],
      "metadata": {
        "colab": {
          "base_uri": "https://localhost:8080/",
          "height": 112
        },
        "id": "Bu3I6MK-S4wL",
        "outputId": "0f498b17-0e40-4f73-bbf1-8cced10ab767"
      },
      "execution_count": 20,
      "outputs": [
        {
          "output_type": "error",
          "ename": "SyntaxError",
          "evalue": "invalid syntax (<ipython-input-20-4cf53b61a954>, line 3)",
          "traceback": [
            "\u001b[0;36m  File \u001b[0;32m\"<ipython-input-20-4cf53b61a954>\"\u001b[0;36m, line \u001b[0;32m3\u001b[0m\n\u001b[0;31m    logging basicConfig(level.logging.WARN)\u001b[0m\n\u001b[0m            ^\u001b[0m\n\u001b[0;31mSyntaxError\u001b[0m\u001b[0;31m:\u001b[0m invalid syntax\n"
          ]
        }
      ]
    }
  ]
}