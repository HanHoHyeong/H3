{
  "nbformat": 4,
  "nbformat_minor": 0,
  "metadata": {
    "colab": {
      "provenance": [],
      "authorship_tag": "ABX9TyPczIJ/kvenr1fJs43ryu+U",
      "include_colab_link": true
    },
    "kernelspec": {
      "name": "python3",
      "display_name": "Python 3"
    },
    "language_info": {
      "name": "python"
    }
  },
  "cells": [
    {
      "cell_type": "markdown",
      "metadata": {
        "id": "view-in-github",
        "colab_type": "text"
      },
      "source": [
        "<a href=\"https://colab.research.google.com/github/HanHoHyeong/H3/blob/main/%EA%B8%B8%EC%9D%B4%EC%99%80%20%EB%84%93%EC%9D%B4.ipynb\" target=\"_parent\"><img src=\"https://colab.research.google.com/assets/colab-badge.svg\" alt=\"Open In Colab\"/></a>"
      ]
    },
    {
      "cell_type": "code",
      "execution_count": null,
      "metadata": {
        "colab": {
          "base_uri": "https://localhost:8080/"
        },
        "id": "02_G6F5Ae_gE",
        "outputId": "d2992ce0-3c84-4936-b7e0-c2cd84f432df"
      },
      "outputs": [
        {
          "output_type": "stream",
          "name": "stdout",
          "text": [
            "가로 입력: 10\n",
            "세로 입력: 20\n",
            "넓이:  200\n"
          ]
        }
      ],
      "source": [
        "class Rectangle:\n",
        "  def __init__(self, width, length):\n",
        "    self.width = width\n",
        "    self.length = length\n",
        "\n",
        "\n",
        "  def get_width(self):\n",
        "    return self.width*self.length\n",
        "\n",
        "x = int(input(\"가로 입력: \"))\n",
        "y = int(input(\"세로 입력: \"))\n",
        "\n",
        "c = Rectangle(x,y)\n",
        "b = c.get_width()\n",
        "\n",
        "\n",
        "print(\"넓이: \",b)"
      ]
    }
  ]
}