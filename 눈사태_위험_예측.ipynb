{
  "nbformat": 4,
  "nbformat_minor": 0,
  "metadata": {
    "colab": {
      "provenance": [],
      "authorship_tag": "ABX9TyNl79cgoL2T93jKLg1n0aTu",
      "include_colab_link": true
    },
    "kernelspec": {
      "name": "python3",
      "display_name": "Python 3"
    },
    "language_info": {
      "name": "python"
    }
  },
  "cells": [
    {
      "cell_type": "markdown",
      "metadata": {
        "id": "view-in-github",
        "colab_type": "text"
      },
      "source": [
        "<a href=\"https://colab.research.google.com/github/HanHoHyeong/H3/blob/main/%EB%88%88%EC%82%AC%ED%83%9C_%EC%9C%84%ED%97%98_%EC%98%88%EC%B8%A1.ipynb\" target=\"_parent\"><img src=\"https://colab.research.google.com/assets/colab-badge.svg\" alt=\"Open In Colab\"/></a>"
      ]
    },
    {
      "cell_type": "code",
      "execution_count": 1,
      "metadata": {
        "colab": {
          "base_uri": "https://localhost:8080/"
        },
        "id": "KuhC-v6X4TzJ",
        "outputId": "fc96d486-7c63-44ef-d5f2-10f6e93c76f9"
      },
      "outputs": [
        {
          "output_type": "stream",
          "name": "stdout",
          "text": [
            "🚨 오류 발생: 파일을 찾을 수 없습니다: avalanche_data.csv\n"
          ]
        }
      ],
      "source": [
        "# ✅ 라이브러리 불러오기\n",
        "import pandas as pd\n",
        "import numpy as np\n",
        "import matplotlib.pyplot as plt\n",
        "import seaborn as sns\n",
        "import os\n",
        "import warnings\n",
        "\n",
        "from sklearn.model_selection import train_test_split\n",
        "from sklearn.ensemble import RandomForestClassifier\n",
        "from sklearn.preprocessing import StandardScaler\n",
        "from sklearn.metrics import accuracy_score, classification_report, confusion_matrix\n",
        "\n",
        "warnings.filterwarnings(\"ignore\")\n",
        "\n",
        "# ✅ 함수: 데이터 불러오기\n",
        "def load_data(filepath):\n",
        "    if not os.path.exists(filepath):\n",
        "        raise FileNotFoundError(f\"파일 경로가 잘못되었습니다: {filepath}\")\n",
        "    df = pd.read_csv(filepath)\n",
        "    print(f\"✅ 데이터 로드 완료: {filepath}\")\n",
        "    return df\n",
        "\n",
        "# ✅ 함수: 전처리 및 특성 선택\n",
        "def preprocess_data(df, feature_cols, target_col):\n",
        "    df = df.dropna(subset=feature_cols + [target_col])\n",
        "    X = df[feature_cols]\n",
        "    y = df[target_col]\n",
        "    return X, y\n",
        "\n",
        "# ✅ 함수: 모델 학습 및 평가\n",
        "def train_and_evaluate(X, y):\n",
        "    # 데이터 분할\n",
        "    X_train, X_test, y_train, y_test = train_test_split(\n",
        "        X, y, test_size=0.2, random_state=42, stratify=y\n",
        "    )\n",
        "\n",
        "    # 데이터 정규화\n",
        "    scaler = StandardScaler()\n",
        "    X_train_scaled = scaler.fit_transform(X_train)\n",
        "    X_test_scaled = scaler.transform(X_test)\n",
        "\n",
        "    # ✅ Random Forest 모델\n",
        "    model = RandomForestClassifier(\n",
        "        n_estimators=200,\n",
        "        max_depth=12,\n",
        "        class_weight='balanced',  # 클래스 불균형 대응\n",
        "        random_state=42\n",
        "    )\n",
        "    model.fit(X_train_scaled, y_train)\n",
        "\n",
        "    # 예측 및 정확도 평가\n",
        "    y_pred = model.predict(X_test_scaled)\n",
        "    acc = accuracy_score(y_test, y_pred)\n",
        "\n",
        "    print(f\"\\n🎯 정확도: {acc * 100:.2f}%\")\n",
        "    print(\"📊 분류 성능:\\n\", classification_report(y_test, y_pred))\n",
        "\n",
        "    # 혼동 행렬 시각화\n",
        "    plt.figure(figsize=(6, 5))\n",
        "    sns.heatmap(confusion_matrix(y_test, y_pred), annot=True, fmt='d', cmap='Blues')\n",
        "    plt.title(\"Confusion Matrix\")\n",
        "    plt.xlabel(\"Predicted\")\n",
        "    plt.ylabel(\"Actual\")\n",
        "    plt.tight_layout()\n",
        "    plt.show()\n",
        "\n",
        "    return model, acc\n",
        "\n",
        "# ✅ 메인 실행\n",
        "if __name__ == \"__main__\":\n",
        "    # 🔍 데이터 경로 (Kaggle에서 다운로드 후 경로 확인)\n",
        "    filepath = \"avalanche_data.csv\"  # 실제 파일명에 맞게 수정\n",
        "\n",
        "    # 🔧 사용할 변수 지정 (필요시 수정)\n",
        "    feature_cols = ['Temperature', 'Wind Speed', 'Snow Depth', 'Slope Angle']\n",
        "    target_col = 'Avalanche'  # 0 또는 1 (이진 분류)\n",
        "\n",
        "    try:\n",
        "        # 전체 프로세스 실행\n",
        "        df = load_data(filepath)\n",
        "        X, y = preprocess_data(df, feature_cols, target_col)\n",
        "        model, accuracy = train_and_evaluate(X, y)\n",
        "\n",
        "        if accuracy >= 0.70:\n",
        "            print(\"✅ 제출 기준 충족: 정확도 70% 이상 달성\")\n",
        "        else:\n",
        "            print(\"⚠️ 정확도가 기준에 못 미칩니다. 특성 추가나 모델 변경이 필요합니다.\")\n",
        "\n",
        "    except Exception as e:\n",
        "        print(f\"🚨 실행 중 오류 발생: {e}\")\n"
      ]
    },
    {
      "cell_type": "markdown",
      "source": [
        "project/\n",
        "│\n",
        "├── avalanche_model.py        # (위 코드)\n",
        "├── avalanche_data.csv        # (Kaggle에서 다운로드)\n",
        "├── README.md                 # 프로젝트 설명 문서\n",
        "└── results/\n",
        "    ├── confusion_matrix.png  # 시각화 이미지 (선택)\n",
        "<참고용>"
      ],
      "metadata": {
        "id": "2QdKgq9G5H1I"
      }
    }
  ]
}