{
  "nbformat": 4,
  "nbformat_minor": 0,
  "metadata": {
    "colab": {
      "provenance": [],
      "authorship_tag": "ABX9TyMIR/XarvcNjXhYSw03UrxS",
      "include_colab_link": true
    },
    "kernelspec": {
      "name": "python3",
      "display_name": "Python 3"
    },
    "language_info": {
      "name": "python"
    }
  },
  "cells": [
    {
      "cell_type": "markdown",
      "metadata": {
        "id": "view-in-github",
        "colab_type": "text"
      },
      "source": [
        "<a href=\"https://colab.research.google.com/github/HanHoHyeong/H3/blob/main/%EC%83%81%EA%B4%80%EA%B4%80%EA%B3%84_%EB%B6%84%EC%84%9D.ipynb\" target=\"_parent\"><img src=\"https://colab.research.google.com/assets/colab-badge.svg\" alt=\"Open In Colab\"/></a>"
      ]
    },
    {
      "cell_type": "code",
      "execution_count": 5,
      "metadata": {
        "colab": {
          "base_uri": "https://localhost:8080/"
        },
        "id": "-I3UQaYzAnAT",
        "outputId": "ea9aa0b2-76c5-4846-c05e-82aa48396ec3"
      },
      "outputs": [
        {
          "output_type": "stream",
          "name": "stdout",
          "text": [
            "절편 (Intercept): {intercept:.4f}\n",
            "결정 계수 (R^2) : {r2:.4f}\n",
            "평균제곱오차 (MSE): {mse:.4f}\n",
            "\n",
            "[회귀 계수]\n",
            "        변수     회귀 계수\n",
            "0     crim -0.128509\n",
            "1       rm  7.542515\n",
            "2      age -0.027817\n",
            "3      tax -0.005760\n",
            "4  ptratio -0.811067\n"
          ]
        }
      ],
      "source": [
        "import pandas as pd\n",
        "import numpy as np\n",
        "import seaborn as sns\n",
        "import matplotlib.pyplot as plt\n",
        "from sklearn.linear_model import LinearRegression\n",
        "from sklearn.model_selection import train_test_split\n",
        "from sklearn.metrics import r2_score, mean_squared_error\n",
        "\n",
        "pd.set_option('display.width', 999)           # 출력 너비 무제한\n",
        "pd.set_option('display.max_columns', 999)     # 모든 열 출력\n",
        "pd.set_option('display.max_colwidth', 999)\n",
        "\n",
        "# 1. 데이터셋 로딩 (seaborn에서 제공하는 boston 데이터는 없으므로 외부 링크 사용)\n",
        "url = \"https://raw.githubusercontent.com/selva86/datasets/master/BostonHousing.csv\"\n",
        "df = pd.read_csv(url)\n",
        "\n",
        "X = df[['crim', 'rm', 'age', 'tax', 'ptratio']]\n",
        "y = df['medv']\n",
        "\n",
        "X_train, X_test, y_train, y_test = train_test_split(X, y, test_size = 0.2, random_state = 42)\n",
        "model = LinearRegression()\n",
        "model.fit(X_train, y_train)\n",
        "\n",
        "y_pred = model.predict(X_test)\n",
        "\n",
        "print('절편 (Intercept): {intercept:.4f}')\n",
        "print('결정 계수 (R^2) : {r2:.4f}')\n",
        "print('평균제곱오차 (MSE): {mse:.4f}')\n",
        "\n",
        "coef_df = pd.DataFrame({'변수': X.columns, '회귀 계수': model.coef_})\n",
        "print(\"\\n[회귀 계수]\")\n",
        "print(coef_df)\n"
      ]
    }
  ]
}