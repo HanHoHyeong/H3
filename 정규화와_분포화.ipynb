{
  "nbformat": 4,
  "nbformat_minor": 0,
  "metadata": {
    "colab": {
      "provenance": [],
      "authorship_tag": "ABX9TyNNUB9U+MebFOG+g6RM91TW",
      "include_colab_link": true
    },
    "kernelspec": {
      "name": "python3",
      "display_name": "Python 3"
    },
    "language_info": {
      "name": "python"
    }
  },
  "cells": [
    {
      "cell_type": "markdown",
      "metadata": {
        "id": "view-in-github",
        "colab_type": "text"
      },
      "source": [
        "<a href=\"https://colab.research.google.com/github/HanHoHyeong/H3/blob/main/%EC%A0%95%EA%B7%9C%ED%99%94%EC%99%80_%EB%B6%84%ED%8F%AC%ED%99%94.ipynb\" target=\"_parent\"><img src=\"https://colab.research.google.com/assets/colab-badge.svg\" alt=\"Open In Colab\"/></a>"
      ]
    },
    {
      "cell_type": "code",
      "execution_count": null,
      "metadata": {
        "id": "1MZi3vJb0y3b"
      },
      "outputs": [],
      "source": [
        "import numpy as np\n",
        "import pandas as pd\n",
        "\n",
        "data = np.array([10, 12, 14, 15 ,18, 100, 13, 11, 12, 14, 13, 12, 15])\n"
      ]
    },
    {
      "cell_type": "code",
      "source": [
        "mean = np.mean(data)\n",
        "std = np.std(data)\n",
        "z_score = (data - mean) / std\n",
        "z_score"
      ],
      "metadata": {
        "colab": {
          "base_uri": "https://localhost:8080/"
        },
        "id": "N6BBgsUO2xpu",
        "outputId": "cee35a1e-5243-48e8-e76f-4fd26ad0b586"
      },
      "execution_count": null,
      "outputs": [
        {
          "output_type": "execute_result",
          "data": {
            "text/plain": [
              "array([-0.42772485, -0.34151674, -0.25530863, -0.21220458, -0.08289241,\n",
              "        3.45164008, -0.29841269, -0.3846208 , -0.34151674, -0.25530863,\n",
              "       -0.29841269, -0.34151674, -0.21220458])"
            ]
          },
          "metadata": {},
          "execution_count": 49
        }
      ]
    },
    {
      "cell_type": "code",
      "source": [
        "max = np.max(data)\n",
        "min = np.min(data)\n",
        "normalized = (data - min) / (max - min)\n",
        "normalized"
      ],
      "metadata": {
        "colab": {
          "base_uri": "https://localhost:8080/"
        },
        "id": "GPmQs_lo3TtH",
        "outputId": "be012ae6-9ed6-4616-f19b-6df08aa0e049"
      },
      "execution_count": null,
      "outputs": [
        {
          "output_type": "execute_result",
          "data": {
            "text/plain": [
              "array([0.        , 0.02222222, 0.04444444, 0.05555556, 0.08888889,\n",
              "       1.        , 0.03333333, 0.01111111, 0.02222222, 0.04444444,\n",
              "       0.03333333, 0.02222222, 0.05555556])"
            ]
          },
          "metadata": {},
          "execution_count": 50
        }
      ]
    },
    {
      "cell_type": "code",
      "source": [
        "data = np.array([10, 12, 14, 15, 18, 100, 13, 11, 12, 14, 13, 12, 15])\n",
        "df = pd.DataFrame(data, columns=['df'])\n",
        "q3_temp = df['df'].quantile(q=0.75)\n",
        "q1_temp = df['df'].quantile(q=0.25)\n",
        "iqr_temp = q3_temp - q1_temp\n",
        "upper_temp = q3_temp + 1.5 * iqr_temp\n",
        "lower_temp = q1_temp - 1.5 * iqr_temp\n",
        "\n",
        "clean_data = data[(data >= lower_temp) & (data <= upper_temp)]\n",
        "clean_data"
      ],
      "metadata": {
        "colab": {
          "base_uri": "https://localhost:8080/"
        },
        "id": "e1Sa_Mim9dib",
        "outputId": "cd4f2e30-7c5c-4351-dfaf-e9d82d2dc1ef"
      },
      "execution_count": null,
      "outputs": [
        {
          "output_type": "execute_result",
          "data": {
            "text/plain": [
              "array([10, 12, 14, 15, 18, 13, 11, 12, 14, 13, 12, 15])"
            ]
          },
          "metadata": {},
          "execution_count": 48
        }
      ]
    },
    {
      "cell_type": "code",
      "source": [],
      "metadata": {
        "id": "SL9P_EZc9fdd"
      },
      "execution_count": null,
      "outputs": []
    }
  ]
}