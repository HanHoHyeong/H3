{
  "nbformat": 4,
  "nbformat_minor": 0,
  "metadata": {
    "colab": {
      "provenance": [],
      "authorship_tag": "ABX9TyPhpO7mtM3m2vgKeTh6b77/",
      "include_colab_link": true
    },
    "kernelspec": {
      "name": "python3",
      "display_name": "Python 3"
    },
    "language_info": {
      "name": "python"
    }
  },
  "cells": [
    {
      "cell_type": "markdown",
      "metadata": {
        "id": "view-in-github",
        "colab_type": "text"
      },
      "source": [
        "<a href=\"https://colab.research.google.com/github/HanHoHyeong/H3/blob/main/%EC%B5%9C%EB%8C%80%EA%B0%92.ipynb\" target=\"_parent\"><img src=\"https://colab.research.google.com/assets/colab-badge.svg\" alt=\"Open In Colab\"/></a>"
      ]
    },
    {
      "cell_type": "code",
      "execution_count": null,
      "metadata": {
        "colab": {
          "base_uri": "https://localhost:8080/"
        },
        "id": "9w0dxucfe3WC",
        "outputId": "dae3797c-a36e-4c59-b993-2d1bd524cf0d"
      },
      "outputs": [
        {
          "output_type": "stream",
          "name": "stdout",
          "text": [
            "98\n"
          ]
        }
      ],
      "source": [
        "score = [55, 82, 34, 98, 76, 62]\n",
        "\n",
        "def Max(x):\n",
        "  max = 0\n",
        "  for i in score:\n",
        "\n",
        "    if i > max:\n",
        "      max = i\n",
        "  return max\n",
        "\n",
        "print(Max(score))\n"
      ]
    }
  ]
}