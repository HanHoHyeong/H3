{
  "nbformat": 4,
  "nbformat_minor": 0,
  "metadata": {
    "colab": {
      "provenance": [],
      "authorship_tag": "ABX9TyMXSIbWBbGBL7rljR0dr7Lv",
      "include_colab_link": true
    },
    "kernelspec": {
      "name": "python3",
      "display_name": "Python 3"
    },
    "language_info": {
      "name": "python"
    }
  },
  "cells": [
    {
      "cell_type": "markdown",
      "metadata": {
        "id": "view-in-github",
        "colab_type": "text"
      },
      "source": [
        "<a href=\"https://colab.research.google.com/github/HanHoHyeong/H3/blob/main/%ED%81%B4%EB%9E%98%EC%8A%A4_%EA%B3%BC%EC%A0%9C(2%EB%B2%88%EB%AC%B8%EC%A0%9C%2C_4%EB%B2%88%EB%AC%B8%EC%A0%9C).ipynb\" target=\"_parent\"><img src=\"https://colab.research.google.com/assets/colab-badge.svg\" alt=\"Open In Colab\"/></a>"
      ]
    },
    {
      "cell_type": "code",
      "execution_count": 57,
      "metadata": {
        "colab": {
          "base_uri": "https://localhost:8080/"
        },
        "id": "pJdDHfKfdmkJ",
        "outputId": "4e02a6b3-7b29-4c96-d87b-7ef8dc32b3ae"
      },
      "outputs": [
        {
          "output_type": "stream",
          "name": "stdout",
          "text": [
            "신지드가 공격받음! 생명력: 990\n",
            "신지드가 공격받음! 생명력: 980\n",
            "크산테가 공격받음! 생명력: 890\n",
            "크산테가 공격받음! 생명력: 880\n",
            "크산테가 공격받음! 생명력: 870\n",
            "신지드가 공격받음! 생명력: 970\n",
            "신지드가 공격받음! 생명력: 960\n",
            "크산테가 공격받음! 생명력: 860\n",
            "징크스가 공격받음! 생명력: 590\n",
            "징크스가 공격받음! 생명력: 580\n"
          ]
        }
      ],
      "source": [
        "import random\n",
        "\n",
        "class Character:\n",
        "    def __init__(self, name, life):\n",
        "        self.name = name\n",
        "        self.life = life\n",
        "\n",
        "    def damage(self):\n",
        "        if self.life > 0:\n",
        "            self.life -= 10\n",
        "            print(f\"{self.name}가 공격받음! 생명력: {self.life}\")\n",
        "        else:\n",
        "            print(f\"{self.name}가 죽었습니다.\")\n",
        "\n",
        "Characters = [\n",
        "    Character(\"신지드\", 1000),\n",
        "    Character(\"징크스\", 600),\n",
        "    Character(\"크산테\", 900)\n",
        "]\n",
        "\n",
        "for _ in range(10):\n",
        "    attack = random.choice(Characters)\n",
        "    attack.damage()\n",
        "\n"
      ]
    },
    {
      "cell_type": "code",
      "source": [],
      "metadata": {
        "id": "1eW34b8qoL5i"
      },
      "execution_count": null,
      "outputs": []
    }
  ]
}