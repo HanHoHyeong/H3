{
  "nbformat": 4,
  "nbformat_minor": 0,
  "metadata": {
    "colab": {
      "provenance": [],
      "include_colab_link": true
    },
    "kernelspec": {
      "name": "python3",
      "display_name": "Python 3"
    },
    "language_info": {
      "name": "python"
    }
  },
  "cells": [
    {
      "cell_type": "markdown",
      "metadata": {
        "id": "view-in-github",
        "colab_type": "text"
      },
      "source": [
        "<a href=\"https://colab.research.google.com/github/HanHoHyeong/H3/blob/main/%ED%8C%8C%EC%9D%B4%EC%8D%AC_%EA%B8%B0%EC%B4%88.ipynb\" target=\"_parent\"><img src=\"https://colab.research.google.com/assets/colab-badge.svg\" alt=\"Open In Colab\"/></a>"
      ]
    },
    {
      "cell_type": "markdown",
      "source": [
        "### **1. 산술 연산자**"
      ],
      "metadata": {
        "id": "YSTtgEdVQOyK"
      }
    },
    {
      "cell_type": "code",
      "source": [
        "#코드 2-5\n",
        "a = 11\n",
        "b = 4\n",
        "\n",
        "print('덧셈 결과', a + b)\n",
        "print('뺄셈 결과', a - b)\n",
        "print('곱셈 결과', a * b)\n",
        "print('나눗셈 결과', a / b)\n",
        "print('나눗셈 정수 몫', a // b)\n",
        "print('나눗셈 나머지', a % b)\n",
        "print('거듭제곱 결과', a ** b)"
      ],
      "metadata": {
        "id": "BN8Tx-hQMIJx"
      },
      "execution_count": null,
      "outputs": []
    },
    {
      "cell_type": "markdown",
      "source": [
        "### **2. 관계 연산자**"
      ],
      "metadata": {
        "id": "UEOSQ6DZQWA2"
      }
    },
    {
      "cell_type": "code",
      "source": [
        "#코드 2-6\n",
        "a = 11\n",
        "b = 4\n",
        "\n",
        "print(a > b)\n",
        "print(a >= b)\n",
        "print(a < b)\n",
        "print(a <= b)"
      ],
      "metadata": {
        "id": "rcrI1XZVMLqF",
        "outputId": "1de3a5b9-bdb2-462d-ed00-270fdc298599",
        "colab": {
          "base_uri": "https://localhost:8080/"
        }
      },
      "execution_count": null,
      "outputs": [
        {
          "output_type": "stream",
          "name": "stdout",
          "text": [
            "True\n",
            "True\n",
            "False\n",
            "False\n"
          ]
        }
      ]
    },
    {
      "cell_type": "markdown",
      "source": [
        "### **3. 논리 연산자**"
      ],
      "metadata": {
        "id": "UafOB1tJQZGH"
      }
    },
    {
      "cell_type": "code",
      "source": [
        "#코드 2-7\n",
        "a = True\n",
        "b = False\n",
        "\n",
        "print(a and b)\n",
        "print(a or b)"
      ],
      "metadata": {
        "id": "exBfvf2kMPa9"
      },
      "execution_count": null,
      "outputs": []
    },
    {
      "cell_type": "markdown",
      "source": [
        "### **4. 멤버 연산자**"
      ],
      "metadata": {
        "id": "AeAqdPGGQd6i"
      }
    },
    {
      "cell_type": "code",
      "source": [
        "#코드 2-8\n",
        "a = 3\n",
        "B = [1, 3, 5, 7, 9]\n",
        "\n",
        "print(a in B)\n",
        "print(a not in B)"
      ],
      "metadata": {
        "id": "-6-nWniXMVxU"
      },
      "execution_count": null,
      "outputs": []
    }
  ]
}